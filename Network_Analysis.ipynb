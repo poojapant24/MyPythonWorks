{
 "cells": [
  {
   "cell_type": "code",
   "execution_count": 147,
   "metadata": {},
   "outputs": [],
   "source": [
    "import pandas as pd\n",
    "import numpy as np\n",
    "import networkx as nx"
   ]
  },
  {
   "cell_type": "markdown",
   "metadata": {},
   "source": [
    "# Loading the single user profile data:"
   ]
  },
  {
   "cell_type": "code",
   "execution_count": 160,
   "metadata": {},
   "outputs": [
    {
     "data": {
      "text/html": [
       "<div>\n",
       "<style scoped>\n",
       "    .dataframe tbody tr th:only-of-type {\n",
       "        vertical-align: middle;\n",
       "    }\n",
       "\n",
       "    .dataframe tbody tr th {\n",
       "        vertical-align: top;\n",
       "    }\n",
       "\n",
       "    .dataframe thead th {\n",
       "        text-align: right;\n",
       "    }\n",
       "</style>\n",
       "<table border=\"1\" class=\"dataframe\">\n",
       "  <thead>\n",
       "    <tr style=\"text-align: right;\">\n",
       "      <th></th>\n",
       "      <th>Is_Alerted</th>\n",
       "      <th>Account_number</th>\n",
       "      <th>Total_Tran_Amt</th>\n",
       "      <th>Total_transactions</th>\n",
       "      <th>Primary_party_acc_no</th>\n",
       "      <th>Weight_1</th>\n",
       "      <th>Weight_2</th>\n",
       "      <th>Final_Weight</th>\n",
       "    </tr>\n",
       "  </thead>\n",
       "  <tbody>\n",
       "    <tr>\n",
       "      <th>0</th>\n",
       "      <td>1</td>\n",
       "      <td>11111111</td>\n",
       "      <td>18000</td>\n",
       "      <td>5</td>\n",
       "      <td>22222222</td>\n",
       "      <td>3</td>\n",
       "      <td>2</td>\n",
       "      <td>5</td>\n",
       "    </tr>\n",
       "    <tr>\n",
       "      <th>1</th>\n",
       "      <td>1</td>\n",
       "      <td>11111111</td>\n",
       "      <td>360000</td>\n",
       "      <td>8</td>\n",
       "      <td>33333333</td>\n",
       "      <td>5</td>\n",
       "      <td>4</td>\n",
       "      <td>9</td>\n",
       "    </tr>\n",
       "    <tr>\n",
       "      <th>2</th>\n",
       "      <td>1</td>\n",
       "      <td>11111111</td>\n",
       "      <td>3000</td>\n",
       "      <td>1</td>\n",
       "      <td>44444444</td>\n",
       "      <td>1</td>\n",
       "      <td>0</td>\n",
       "      <td>1</td>\n",
       "    </tr>\n",
       "    <tr>\n",
       "      <th>3</th>\n",
       "      <td>1</td>\n",
       "      <td>11111111</td>\n",
       "      <td>2000</td>\n",
       "      <td>1</td>\n",
       "      <td>55555555</td>\n",
       "      <td>1</td>\n",
       "      <td>0</td>\n",
       "      <td>1</td>\n",
       "    </tr>\n",
       "    <tr>\n",
       "      <th>4</th>\n",
       "      <td>1</td>\n",
       "      <td>11111111</td>\n",
       "      <td>13000</td>\n",
       "      <td>5</td>\n",
       "      <td>66666666</td>\n",
       "      <td>2</td>\n",
       "      <td>2</td>\n",
       "      <td>4</td>\n",
       "    </tr>\n",
       "  </tbody>\n",
       "</table>\n",
       "</div>"
      ],
      "text/plain": [
       "   Is_Alerted  Account_number  Total_Tran_Amt  Total_transactions  \\\n",
       "0           1        11111111           18000                   5   \n",
       "1           1        11111111          360000                   8   \n",
       "2           1        11111111            3000                   1   \n",
       "3           1        11111111            2000                   1   \n",
       "4           1        11111111           13000                   5   \n",
       "\n",
       "   Primary_party_acc_no  Weight_1  Weight_2  Final_Weight  \n",
       "0              22222222         3         2             5  \n",
       "1              33333333         5         4             9  \n",
       "2              44444444         1         0             1  \n",
       "3              55555555         1         0             1  \n",
       "4              66666666         2         2             4  "
      ]
     },
     "execution_count": 160,
     "metadata": {},
     "output_type": "execute_result"
    }
   ],
   "source": [
    "df = pd.read_csv('Network_Analysis_Data.csv')\n",
    "df.head(5)"
   ]
  },
  {
   "cell_type": "markdown",
   "metadata": {},
   "source": [
    "# Weights are calculated using nested if conditions\n",
    "# =IF(Total_Tran_Amt<10000,5,(Total_Tran_Amt<15000,4,(Total_Tran_Amt<20000,3,(Total_Tran_Amt<25000,2,1))))\n",
    "\n",
    "# =IF(Total_transactions>8,5,IF(Total_transactions>7,4,IF(Total_transactions>6,3,IF(Total_transactions>4,2, IF(Total_transactions>2,1,0)))))"
   ]
  },
  {
   "cell_type": "markdown",
   "metadata": {},
   "source": [
    "# Creating a function that will define edges, nodes and weights for their relationships"
   ]
  },
  {
   "cell_type": "code",
   "execution_count": 162,
   "metadata": {},
   "outputs": [],
   "source": [
    "Network_graph = nx.Graph()\n",
    "\n",
    "#Function that will run for the length of dataframe df\n",
    "def Create_Network():\n",
    "    for i in range(len(df)):\n",
    "        Network_graph.add_edge(df['Account_number'][i],df['Primary_party_acc_no'][i], weight=df['Final_Weight'][i])"
   ]
  },
  {
   "cell_type": "code",
   "execution_count": 163,
   "metadata": {},
   "outputs": [
    {
     "data": {
      "image/png": "[encoded data removed]",
      "text/plain": [
       "<Figure size 432x288 with 1 Axes>"
      ]
     },
     "metadata": {
      "needs_background": "light"
     },
     "output_type": "display_data"
    }
   ],
   "source": [
    "#calling the function\n",
    "Create_Network()\n",
    "\n",
    "#drawing the network diagram\n",
    "nx.draw_networkx(Network_graph)"
   ]
  },
  {
   "cell_type": "markdown",
   "metadata": {},
   "source": [
    "# Verifying the density:"
   ]
  },
  {
   "cell_type": "code",
   "execution_count": 164,
   "metadata": {},
   "outputs": [
    {
     "name": "stdout",
     "output_type": "stream",
     "text": [
      "0.2\n"
     ]
    }
   ],
   "source": [
    "density = nx.density(Network_graph)\n",
    "print(density)"
   ]
  },
  {
   "cell_type": "markdown",
   "metadata": {},
   "source": [
    "# Network Graph for multiple user profiles:"
   ]
  },
  {
   "cell_type": "markdown",
   "metadata": {},
   "source": [
    "# Loading the multi user profile data:"
   ]
  },
  {
   "cell_type": "code",
   "execution_count": 165,
   "metadata": {},
   "outputs": [
    {
     "data": {
      "text/html": [
       "<div>\n",
       "<style scoped>\n",
       "    .dataframe tbody tr th:only-of-type {\n",
       "        vertical-align: middle;\n",
       "    }\n",
       "\n",
       "    .dataframe tbody tr th {\n",
       "        vertical-align: top;\n",
       "    }\n",
       "\n",
       "    .dataframe thead th {\n",
       "        text-align: right;\n",
       "    }\n",
       "</style>\n",
       "<table border=\"1\" class=\"dataframe\">\n",
       "  <thead>\n",
       "    <tr style=\"text-align: right;\">\n",
       "      <th></th>\n",
       "      <th>Is_Alerted</th>\n",
       "      <th>Account_number</th>\n",
       "      <th>Total_Tran_Amt</th>\n",
       "      <th>Total_transactions</th>\n",
       "      <th>Primary_party_acc_no</th>\n",
       "      <th>Weight_1</th>\n",
       "      <th>Weight_2</th>\n",
       "      <th>Final_Weight</th>\n",
       "    </tr>\n",
       "  </thead>\n",
       "  <tbody>\n",
       "    <tr>\n",
       "      <th>0</th>\n",
       "      <td>1</td>\n",
       "      <td>11111111</td>\n",
       "      <td>18000</td>\n",
       "      <td>5</td>\n",
       "      <td>22222222</td>\n",
       "      <td>3</td>\n",
       "      <td>2</td>\n",
       "      <td>5</td>\n",
       "    </tr>\n",
       "    <tr>\n",
       "      <th>1</th>\n",
       "      <td>1</td>\n",
       "      <td>11111111</td>\n",
       "      <td>36000</td>\n",
       "      <td>8</td>\n",
       "      <td>33333333</td>\n",
       "      <td>5</td>\n",
       "      <td>4</td>\n",
       "      <td>9</td>\n",
       "    </tr>\n",
       "    <tr>\n",
       "      <th>2</th>\n",
       "      <td>1</td>\n",
       "      <td>11111111</td>\n",
       "      <td>3000</td>\n",
       "      <td>1</td>\n",
       "      <td>44444444</td>\n",
       "      <td>1</td>\n",
       "      <td>0</td>\n",
       "      <td>1</td>\n",
       "    </tr>\n",
       "    <tr>\n",
       "      <th>3</th>\n",
       "      <td>1</td>\n",
       "      <td>22222222</td>\n",
       "      <td>2000</td>\n",
       "      <td>1</td>\n",
       "      <td>55555555</td>\n",
       "      <td>1</td>\n",
       "      <td>0</td>\n",
       "      <td>1</td>\n",
       "    </tr>\n",
       "    <tr>\n",
       "      <th>4</th>\n",
       "      <td>1</td>\n",
       "      <td>22222222</td>\n",
       "      <td>13000</td>\n",
       "      <td>5</td>\n",
       "      <td>66666666</td>\n",
       "      <td>2</td>\n",
       "      <td>2</td>\n",
       "      <td>4</td>\n",
       "    </tr>\n",
       "  </tbody>\n",
       "</table>\n",
       "</div>"
      ],
      "text/plain": [
       "   Is_Alerted  Account_number  Total_Tran_Amt  Total_transactions  \\\n",
       "0           1        11111111           18000                   5   \n",
       "1           1        11111111           36000                   8   \n",
       "2           1        11111111            3000                   1   \n",
       "3           1        22222222            2000                   1   \n",
       "4           1        22222222           13000                   5   \n",
       "\n",
       "   Primary_party_acc_no  Weight_1  Weight_2  Final_Weight  \n",
       "0              22222222         3         2             5  \n",
       "1              33333333         5         4             9  \n",
       "2              44444444         1         0             1  \n",
       "3              55555555         1         0             1  \n",
       "4              66666666         2         2             4  "
      ]
     },
     "execution_count": 165,
     "metadata": {},
     "output_type": "execute_result"
    }
   ],
   "source": [
    "df = pd.read_csv('Network_Analysis_Data_Multi.csv')\n",
    "df.head(5)"
   ]
  },
  {
   "cell_type": "markdown",
   "metadata": {},
   "source": [
    "# Creating a function that will define edges, nodes and weights for their relationships"
   ]
  },
  {
   "cell_type": "code",
   "execution_count": 167,
   "metadata": {},
   "outputs": [],
   "source": [
    "Network_graph_Multi = nx.Graph()\n",
    "\n",
    "#Function that will run for the length of dataframe df\n",
    "def Create_Network_Multi():\n",
    "    for i in range(len(df)):\n",
    "        Network_graph_Multi.add_edge(df['Account_number'][i],df['Primary_party_acc_no'][i], weight=df['Final_Weight'][i])"
   ]
  },
  {
   "cell_type": "code",
   "execution_count": 169,
   "metadata": {},
   "outputs": [
    {
     "data": {
      "image/png": "[encoded data removed]",
      "text/plain": [
       "<Figure size 432x288 with 1 Axes>"
      ]
     },
     "metadata": {
      "needs_background": "light"
     },
     "output_type": "display_data"
    }
   ],
   "source": [
    "#Calling the function\n",
    "Create_Network_Multi()\n",
    "nx.draw_networkx(Network_graph_Multi)"
   ]
  },
  {
   "cell_type": "markdown",
   "metadata": {},
   "source": [
    "# Verifying the density:"
   ]
  },
  {
   "cell_type": "code",
   "execution_count": 170,
   "metadata": {},
   "outputs": [
    {
     "name": "stdout",
     "output_type": "stream",
     "text": [
      "0.6666666666666666\n"
     ]
    }
   ],
   "source": [
    "density = nx.density(G_weighted_new)\n",
    "print(density)"
   ]
  }
 ],
 "metadata": {
  "kernelspec": {
   "display_name": "Python 3",
   "language": "python",
   "name": "python3"
  },
  "language_info": {
   "codemirror_mode": {
    "name": "ipython",
    "version": 3
   },
   "file_extension": ".py",
   "mimetype": "text/x-python",
   "name": "python",
   "nbconvert_exporter": "python",
   "pygments_lexer": "ipython3",
   "version": "3.7.3"
  }
 },
 "nbformat": 4,
 "nbformat_minor": 2
}
